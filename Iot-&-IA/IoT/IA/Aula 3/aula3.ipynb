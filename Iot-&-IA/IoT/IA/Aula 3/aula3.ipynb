{
 "cells": [
  {
   "cell_type": "markdown",
   "metadata": {},
   "source": [
    "## 1. Redes Neurais\n",
    "\n",
    "### Objetivos\n",
    "\n",
    "  - Conhecer e praticar os algoritmos Perceptron e multilayer Perceptron (MLP)\n",
    "  - Conhecer uma intuição sobre função de ativação, backpropagation \n",
    "  - Conhecer e praticar o framework TensorFlow\n",
    "  "
   ]
  },
  {
   "cell_type": "markdown",
   "metadata": {},
   "source": [
    "## Redes Neurais Artificiais\n",
    "\n",
    "As redes neurais são modelos computacionais inspirados pelo sistema nervoso de um animal capazes de realizar o aprendizado de máquina bem como o reconhecimento de padrões.\n",
    "\n",
    "Tais modelos são muitas vezes utilizados para a tarefa de classificação de padrões, podendo gerar classificadores com características variadas.  \n",
    "\n",
    "As redes neurais artificiais possuem em comum o fato de serem constituídas por neurônios que se conectam entre si através de através de sinapses. A rede neural mais conhecida são as baseadas em `Perceptron multicamada (MLP)` embora existam outras redes como `rede de Kohonem`, as `redes de base radial` e a `rede de Hopfield`.\n",
    "\n",
    "### Os principais componentes dos neurônios são:\n",
    "\n",
    "   - Os `dendritos`, que têm por função receber os estímulos transmitidos pelos outros neurônios;\n",
    "   - O `corpo` de neurônio, também chamado de soma, que é responsável por coletar e combinar informações vindas de outros neurônios;\n",
    "   - O `axônio`, que é constituído de uma fibra tubular e é responsável por transmitir os estímulos para outras células.\n"
   ]
  },
  {
   "cell_type": "markdown",
   "metadata": {},
   "source": [
    "<img src=\"neuron.png\" width=\"600p\">"
   ]
  },
  {
   "cell_type": "markdown",
   "metadata": {},
   "source": [
    "## Perceptron\n",
    "\n",
    "Classificador Perceptron - Separação de classes linearmente separáveis.\n",
    "\n",
    "<img src=\"img18.gif\">"
   ]
  },
  {
   "cell_type": "markdown",
   "metadata": {},
   "source": [
    "### Implementação de uma rede perceptron\n",
    "\n",
    "\n",
    "<img src=\"perceptron.png\">\n",
    "\n",
    "\n",
    "Vamos usar um framework de machine learning chamado TensorFlow/keras para fazer esta implementação.\n",
    "\n",
    " - pip install tensorflow\n",
    " - pip install keras"
   ]
  },
  {
   "cell_type": "code",
   "execution_count": 1,
   "metadata": {},
   "outputs": [],
   "source": [
    "import tensorflow as tf\n",
    "from tensorflow import keras\n"
   ]
  },
  {
   "cell_type": "code",
   "execution_count": 2,
   "metadata": {},
   "outputs": [
    {
     "name": "stdout",
     "output_type": "stream",
     "text": [
      "Model: \"sequential\"\n",
      "_________________________________________________________________\n",
      "Layer (type)                 Output Shape              Param #   \n",
      "=================================================================\n",
      "dense (Dense)                (None, 1)                 4         \n",
      "=================================================================\n",
      "Total params: 4\n",
      "Trainable params: 4\n",
      "Non-trainable params: 0\n",
      "_________________________________________________________________\n"
     ]
    }
   ],
   "source": [
    "from tensorflow.keras import layers\n",
    "\n",
    "\n",
    "model = keras.Sequential([\n",
    "    layers.Dense(units=1, input_shape=[3])\n",
    "])\n",
    "\n",
    "model.summary()\n"
   ]
  },
  {
   "cell_type": "markdown",
   "metadata": {},
   "source": [
    "\n",
    "<img src=\"perceptron1.png\">"
   ]
  },
  {
   "cell_type": "code",
   "execution_count": 3,
   "metadata": {},
   "outputs": [
    {
     "name": "stdout",
     "output_type": "stream",
     "text": [
      "Model: \"sequential_1\"\n",
      "_________________________________________________________________\n",
      "Layer (type)                 Output Shape              Param #   \n",
      "=================================================================\n",
      "dense_1 (Dense)              (None, 2)                 6         \n",
      "=================================================================\n",
      "Total params: 6\n",
      "Trainable params: 6\n",
      "Non-trainable params: 0\n",
      "_________________________________________________________________\n"
     ]
    }
   ],
   "source": [
    "from tensorflow.keras import layers\n",
    "\n",
    "\n",
    "model = keras.Sequential([\n",
    "    layers.Dense(units=2, input_shape=[2])\n",
    "])\n",
    "\n",
    "model.summary()\n"
   ]
  },
  {
   "cell_type": "markdown",
   "metadata": {},
   "source": [
    "## Função de ativação\n",
    "\n",
    "É basicamente uma função matematica que é responsavel por ativar ou não a saída do neuronio.\n",
    "\n",
    "<img src=\"activation-functions1.png\" width=\"800p\" >\n",
    "\n"
   ]
  },
  {
   "cell_type": "markdown",
   "metadata": {},
   "source": [
    "## Multi-Layer Perceptron (MLP)\n",
    "\n",
    "\n",
    "<img src=\"mlp.png\">\n",
    "\n"
   ]
  },
  {
   "cell_type": "code",
   "execution_count": 4,
   "metadata": {},
   "outputs": [],
   "source": [
    "import tensorflow as tf\n",
    "from tensorflow import keras\n",
    "from tensorflow.keras import layers\n"
   ]
  },
  {
   "cell_type": "code",
   "execution_count": 5,
   "metadata": {},
   "outputs": [
    {
     "name": "stdout",
     "output_type": "stream",
     "text": [
      "Model: \"sequential_2\"\n",
      "_________________________________________________________________\n",
      "Layer (type)                 Output Shape              Param #   \n",
      "=================================================================\n",
      "dense_2 (Dense)              (None, 4)                 12        \n",
      "_________________________________________________________________\n",
      "dense_3 (Dense)              (None, 3)                 15        \n",
      "_________________________________________________________________\n",
      "dense_4 (Dense)              (None, 1)                 4         \n",
      "=================================================================\n",
      "Total params: 31\n",
      "Trainable params: 31\n",
      "Non-trainable params: 0\n",
      "_________________________________________________________________\n"
     ]
    }
   ],
   "source": [
    "\n",
    "# Cria a rede MLP\n",
    "model = keras.Sequential([\n",
    "    layers.Dense(units=4, input_shape=[2], activation = 'relu'),\n",
    "    layers.Dense(units=3, activation = 'relu'),\n",
    "    layers.Dense(units=1)\n",
    "])\n",
    "\n",
    "model.summary()\n"
   ]
  },
  {
   "cell_type": "markdown",
   "metadata": {},
   "source": [
    "## Backpropagation\n",
    "\n",
    "Trata-se de uma técnica para realizar o ajuste dos pesos de uma rede neural. O objetivo de uma rede neural é sempre minimizar o seu erro, em outras palavras, a menor `Loss`para guiar o modelo para a direção certa. \n",
    "\n",
    "A` função Loss` (ou função de erro ou função de perda) mede o quão boa estão as predições da rede, para problemas de `regressão` são mais utilizados o `MSE`, ou` MAE`. Já par `classificação`, são utilizados` BCE`. \n",
    "\n",
    "\n",
    "Os 'algoritmos otimizadores` são utilizados para ajustar os pesos das redes, o passo dado na descida do gradiente é chamada de taxa de aprendizado e mais utilizados são: \n",
    " - SGD\n",
    " - RMSprop\n",
    " - Adam\n",
    " - Adadelta\n",
    " - Adagrad\n",
    " - Adamax\n",
    "\n",
    "<img src=\"sgd.gif\">\n",
    "\n",
    "<img src=\"loss.gif\">\n"
   ]
  },
  {
   "cell_type": "markdown",
   "metadata": {},
   "source": [
    "## Exemplo Perceptron"
   ]
  },
  {
   "cell_type": "code",
   "execution_count": 6,
   "metadata": {},
   "outputs": [
    {
     "name": "stdout",
     "output_type": "stream",
     "text": [
      "<class 'pandas.core.frame.DataFrame'>\n",
      "RangeIndex: 500 entries, 0 to 499\n",
      "Data columns (total 2 columns):\n",
      " #   Column       Non-Null Count  Dtype  \n",
      "---  ------       --------------  -----  \n",
      " 0   Temperature  500 non-null    float64\n",
      " 1   Revenue      500 non-null    float64\n",
      "dtypes: float64(2)\n",
      "memory usage: 7.9 KB\n"
     ]
    }
   ],
   "source": [
    "import pandas as pd\n",
    "import numpy as np\n",
    "df = pd.read_csv('SalesData.csv')\n",
    "df.info()\n",
    "\n",
    "X_train = df['Temperature']\n",
    "y_train = df['Revenue']\n"
   ]
  },
  {
   "cell_type": "code",
   "execution_count": 7,
   "metadata": {},
   "outputs": [
    {
     "name": "stderr",
     "output_type": "stream",
     "text": [
      "/home/iot/.local/lib/python3.8/site-packages/seaborn/_decorators.py:36: FutureWarning: Pass the following variables as keyword args: x, y. From version 0.12, the only valid positional argument will be `data`, and passing other arguments without an explicit keyword will result in an error or misinterpretation.\n",
      "  warnings.warn(\n"
     ]
    },
    {
     "data": {
      "image/png": "[encoded data removed]",
      "text/plain": [
       "<Figure size 432x288 with 1 Axes>"
      ]
     },
     "metadata": {
      "needs_background": "light"
     },
     "output_type": "display_data"
    }
   ],
   "source": [
    "import seaborn as sns\n",
    "\n",
    "sns.scatterplot(X_train, y_train);"
   ]
  },
  {
   "cell_type": "code",
   "execution_count": 8,
   "metadata": {},
   "outputs": [
    {
     "name": "stdout",
     "output_type": "stream",
     "text": [
      "Model: \"sequential_3\"\n",
      "_________________________________________________________________\n",
      "Layer (type)                 Output Shape              Param #   \n",
      "=================================================================\n",
      "dense_5 (Dense)              (None, 1)                 2         \n",
      "=================================================================\n",
      "Total params: 2\n",
      "Trainable params: 2\n",
      "Non-trainable params: 0\n",
      "_________________________________________________________________\n"
     ]
    }
   ],
   "source": [
    "import tensorflow as tf\n",
    "from tensorflow import keras\n",
    "from tensorflow.keras import layers\n",
    "\n",
    "model = keras.Sequential([\n",
    "    layers.Dense(units=1, input_shape=[1])\n",
    "])\n",
    "\n",
    "model.summary()"
   ]
  },
  {
   "cell_type": "code",
   "execution_count": 9,
   "metadata": {},
   "outputs": [],
   "source": [
    "model.compile(optimizer=tf.keras.optimizers.Adam(0.01), loss = 'mse')"
   ]
  },
  {
   "cell_type": "code",
   "execution_count": 10,
   "metadata": {},
   "outputs": [
    {
     "name": "stdout",
     "output_type": "stream",
     "text": [
      "Epoch 1/200\n",
      "16/16 [==============================] - 1s 2ms/step - loss: 267931.8125\n",
      "Epoch 2/200\n",
      "16/16 [==============================] - 0s 2ms/step - loss: 263922.7500\n",
      "Epoch 3/200\n",
      "16/16 [==============================] - 0s 2ms/step - loss: 259937.7656\n",
      "Epoch 4/200\n",
      "16/16 [==============================] - 0s 1ms/step - loss: 255990.0781\n",
      "Epoch 5/200\n",
      "16/16 [==============================] - 0s 2ms/step - loss: 252105.7031\n",
      "Epoch 6/200\n",
      "16/16 [==============================] - 0s 2ms/step - loss: 248234.1094\n",
      "Epoch 7/200\n",
      "16/16 [==============================] - 0s 2ms/step - loss: 244427.9688\n",
      "Epoch 8/200\n",
      "16/16 [==============================] - 0s 2ms/step - loss: 240675.5469\n",
      "Epoch 9/200\n",
      "16/16 [==============================] - 0s 2ms/step - loss: 236936.1719\n",
      "Epoch 10/200\n",
      "16/16 [==============================] - 0s 2ms/step - loss: 233261.3594\n",
      "Epoch 11/200\n",
      "16/16 [==============================] - 0s 1ms/step - loss: 229593.2969\n",
      "Epoch 12/200\n",
      "16/16 [==============================] - 0s 1ms/step - loss: 226026.7188\n",
      "Epoch 13/200\n",
      "16/16 [==============================] - 0s 2ms/step - loss: 222498.7656\n",
      "Epoch 14/200\n",
      "16/16 [==============================] - 0s 2ms/step - loss: 218920.7656\n",
      "Epoch 15/200\n",
      "16/16 [==============================] - 0s 2ms/step - loss: 215521.2969\n",
      "Epoch 16/200\n",
      "16/16 [==============================] - 0s 2ms/step - loss: 212108.0000\n",
      "Epoch 17/200\n",
      "16/16 [==============================] - 0s 1ms/step - loss: 208659.0625\n",
      "Epoch 18/200\n",
      "16/16 [==============================] - 0s 2ms/step - loss: 205377.5312\n",
      "Epoch 19/200\n",
      "16/16 [==============================] - 0s 1ms/step - loss: 202035.8281\n",
      "Epoch 20/200\n",
      "16/16 [==============================] - 0s 2ms/step - loss: 198805.9375\n",
      "Epoch 21/200\n",
      "16/16 [==============================] - 0s 1ms/step - loss: 195569.1719\n",
      "Epoch 22/200\n",
      "16/16 [==============================] - 0s 1ms/step - loss: 192391.4531\n",
      "Epoch 23/200\n",
      "16/16 [==============================] - 0s 1ms/step - loss: 189276.8906\n",
      "Epoch 24/200\n",
      "16/16 [==============================] - 0s 3ms/step - loss: 186152.0156\n",
      "Epoch 25/200\n",
      "16/16 [==============================] - 0s 1ms/step - loss: 183074.0938\n",
      "Epoch 26/200\n",
      "16/16 [==============================] - 0s 2ms/step - loss: 180033.5156\n",
      "Epoch 27/200\n",
      "16/16 [==============================] - 0s 1ms/step - loss: 177043.2812\n",
      "Epoch 28/200\n",
      "16/16 [==============================] - 0s 1ms/step - loss: 174070.2969\n",
      "Epoch 29/200\n",
      "16/16 [==============================] - 0s 1ms/step - loss: 171144.8125\n",
      "Epoch 30/200\n",
      "16/16 [==============================] - 0s 1ms/step - loss: 168287.6562\n",
      "Epoch 31/200\n",
      "16/16 [==============================] - 0s 2ms/step - loss: 165392.4531\n",
      "Epoch 32/200\n",
      "16/16 [==============================] - 0s 1ms/step - loss: 162635.5312\n",
      "Epoch 33/200\n",
      "16/16 [==============================] - 0s 1ms/step - loss: 159830.8750\n",
      "Epoch 34/200\n",
      "16/16 [==============================] - 0s 1ms/step - loss: 157087.4688\n",
      "Epoch 35/200\n",
      "16/16 [==============================] - 0s 1ms/step - loss: 154400.5000\n",
      "Epoch 36/200\n",
      "16/16 [==============================] - 0s 1ms/step - loss: 151719.9844\n",
      "Epoch 37/200\n",
      "16/16 [==============================] - 0s 1ms/step - loss: 149071.8906\n",
      "Epoch 38/200\n",
      "16/16 [==============================] - 0s 1ms/step - loss: 146500.6719\n",
      "Epoch 39/200\n",
      "16/16 [==============================] - 0s 1ms/step - loss: 143905.8438\n",
      "Epoch 40/200\n",
      "16/16 [==============================] - 0s 1ms/step - loss: 141349.3438\n",
      "Epoch 41/200\n",
      "16/16 [==============================] - 0s 1ms/step - loss: 138861.0312\n",
      "Epoch 42/200\n",
      "16/16 [==============================] - 0s 1ms/step - loss: 136402.3125\n",
      "Epoch 43/200\n",
      "16/16 [==============================] - 0s 1ms/step - loss: 133961.1562\n",
      "Epoch 44/200\n",
      "16/16 [==============================] - 0s 1ms/step - loss: 131534.6406\n",
      "Epoch 45/200\n",
      "16/16 [==============================] - 0s 2ms/step - loss: 129176.5625\n",
      "Epoch 46/200\n",
      "16/16 [==============================] - 0s 2ms/step - loss: 126844.2734\n",
      "Epoch 47/200\n",
      "16/16 [==============================] - 0s 1ms/step - loss: 124525.7344\n",
      "Epoch 48/200\n",
      "16/16 [==============================] - 0s 2ms/step - loss: 122241.7344\n",
      "Epoch 49/200\n",
      "16/16 [==============================] - 0s 2ms/step - loss: 120007.6172\n",
      "Epoch 50/200\n",
      "16/16 [==============================] - 0s 2ms/step - loss: 117788.8984\n",
      "Epoch 51/200\n",
      "16/16 [==============================] - 0s 1ms/step - loss: 115606.0938\n",
      "Epoch 52/200\n",
      "16/16 [==============================] - 0s 2ms/step - loss: 113457.1875\n",
      "Epoch 53/200\n",
      "16/16 [==============================] - 0s 2ms/step - loss: 111318.2266\n",
      "Epoch 54/200\n",
      "16/16 [==============================] - 0s 2ms/step - loss: 109234.3203\n",
      "Epoch 55/200\n",
      "16/16 [==============================] - 0s 2ms/step - loss: 107180.1406\n",
      "Epoch 56/200\n",
      "16/16 [==============================] - 0s 2ms/step - loss: 105125.4453\n",
      "Epoch 57/200\n",
      "16/16 [==============================] - 0s 2ms/step - loss: 103137.3516\n",
      "Epoch 58/200\n",
      "16/16 [==============================] - 0s 1ms/step - loss: 101146.8828\n",
      "Epoch 59/200\n",
      "16/16 [==============================] - 0s 2ms/step - loss: 99210.2734\n",
      "Epoch 60/200\n",
      "16/16 [==============================] - 0s 2ms/step - loss: 97276.5156\n",
      "Epoch 61/200\n",
      "16/16 [==============================] - 0s 1ms/step - loss: 95377.3828\n",
      "Epoch 62/200\n",
      "16/16 [==============================] - 0s 2ms/step - loss: 93514.3750\n",
      "Epoch 63/200\n",
      "16/16 [==============================] - 0s 2ms/step - loss: 91684.7969\n",
      "Epoch 64/200\n",
      "16/16 [==============================] - 0s 1ms/step - loss: 89867.6484\n",
      "Epoch 65/200\n",
      "16/16 [==============================] - 0s 2ms/step - loss: 88081.2031\n",
      "Epoch 66/200\n",
      "16/16 [==============================] - 0s 2ms/step - loss: 86328.4766\n",
      "Epoch 67/200\n",
      "16/16 [==============================] - 0s 1ms/step - loss: 84598.4141\n",
      "Epoch 68/200\n",
      "16/16 [==============================] - 0s 2ms/step - loss: 82868.9375\n",
      "Epoch 69/200\n",
      "16/16 [==============================] - 0s 2ms/step - loss: 81208.0234\n",
      "Epoch 70/200\n",
      "16/16 [==============================] - 0s 2ms/step - loss: 79555.9062\n",
      "Epoch 71/200\n",
      "16/16 [==============================] - 0s 2ms/step - loss: 77904.0469\n",
      "Epoch 72/200\n",
      "16/16 [==============================] - 0s 2ms/step - loss: 76310.4688\n",
      "Epoch 73/200\n",
      "16/16 [==============================] - 0s 2ms/step - loss: 74733.9375\n",
      "Epoch 74/200\n",
      "16/16 [==============================] - 0s 2ms/step - loss: 73182.1406\n",
      "Epoch 75/200\n",
      "16/16 [==============================] - 0s 1ms/step - loss: 71644.2109\n",
      "Epoch 76/200\n",
      "16/16 [==============================] - 0s 2ms/step - loss: 70154.7422\n",
      "Epoch 77/200\n",
      "16/16 [==============================] - 0s 2ms/step - loss: 68667.8516\n",
      "Epoch 78/200\n",
      "16/16 [==============================] - 0s 2ms/step - loss: 67223.9062\n",
      "Epoch 79/200\n",
      "16/16 [==============================] - 0s 2ms/step - loss: 65776.0156\n",
      "Epoch 80/200\n",
      "16/16 [==============================] - 0s 2ms/step - loss: 64383.2422\n",
      "Epoch 81/200\n",
      "16/16 [==============================] - 0s 1ms/step - loss: 62985.0703\n",
      "Epoch 82/200\n",
      "16/16 [==============================] - 0s 1ms/step - loss: 61614.7930\n",
      "Epoch 83/200\n",
      "16/16 [==============================] - 0s 1ms/step - loss: 60271.1055\n",
      "Epoch 84/200\n",
      "16/16 [==============================] - 0s 1ms/step - loss: 58967.0312\n",
      "Epoch 85/200\n",
      "16/16 [==============================] - 0s 1ms/step - loss: 57656.4492\n",
      "Epoch 86/200\n",
      "16/16 [==============================] - 0s 1ms/step - loss: 56380.9336\n",
      "Epoch 87/200\n",
      "16/16 [==============================] - 0s 1ms/step - loss: 55118.3945\n",
      "Epoch 88/200\n",
      "16/16 [==============================] - 0s 1ms/step - loss: 53889.0703\n",
      "Epoch 89/200\n",
      "16/16 [==============================] - 0s 1ms/step - loss: 52662.1719\n",
      "Epoch 90/200\n",
      "16/16 [==============================] - 0s 1ms/step - loss: 51470.4727\n",
      "Epoch 91/200\n",
      "16/16 [==============================] - 0s 2ms/step - loss: 50297.4219\n",
      "Epoch 92/200\n",
      "16/16 [==============================] - 0s 2ms/step - loss: 49135.0156\n",
      "Epoch 93/200\n",
      "16/16 [==============================] - 0s 1ms/step - loss: 48006.3242\n",
      "Epoch 94/200\n",
      "16/16 [==============================] - 0s 2ms/step - loss: 46899.8438\n",
      "Epoch 95/200\n",
      "16/16 [==============================] - 0s 1ms/step - loss: 45796.9375\n",
      "Epoch 96/200\n",
      "16/16 [==============================] - 0s 1ms/step - loss: 44725.9492\n",
      "Epoch 97/200\n",
      "16/16 [==============================] - 0s 1ms/step - loss: 43667.8203\n",
      "Epoch 98/200\n",
      "16/16 [==============================] - 0s 1ms/step - loss: 42632.2695\n",
      "Epoch 99/200\n",
      "16/16 [==============================] - 0s 2ms/step - loss: 41611.0742\n",
      "Epoch 100/200\n",
      "16/16 [==============================] - 0s 1ms/step - loss: 40614.3633\n",
      "Epoch 101/200\n",
      "16/16 [==============================] - 0s 1ms/step - loss: 39623.7188\n",
      "Epoch 102/200\n",
      "16/16 [==============================] - 0s 1ms/step - loss: 38671.3984\n",
      "Epoch 103/200\n",
      "16/16 [==============================] - 0s 1ms/step - loss: 37729.1719\n",
      "Epoch 104/200\n",
      "16/16 [==============================] - 0s 1ms/step - loss: 36805.5430\n",
      "Epoch 105/200\n",
      "16/16 [==============================] - 0s 1ms/step - loss: 35908.5938\n",
      "Epoch 106/200\n",
      "16/16 [==============================] - 0s 1ms/step - loss: 35015.6953\n",
      "Epoch 107/200\n",
      "16/16 [==============================] - 0s 1ms/step - loss: 34129.4648\n",
      "Epoch 108/200\n",
      "16/16 [==============================] - 0s 1ms/step - loss: 33284.2578\n",
      "Epoch 109/200\n",
      "16/16 [==============================] - 0s 1ms/step - loss: 32443.2070\n",
      "Epoch 110/200\n",
      "16/16 [==============================] - 0s 1ms/step - loss: 31620.6289\n",
      "Epoch 111/200\n",
      "16/16 [==============================] - 0s 1ms/step - loss: 30808.0254\n",
      "Epoch 112/200\n",
      "16/16 [==============================] - 0s 1ms/step - loss: 30018.7949\n",
      "Epoch 113/200\n",
      "16/16 [==============================] - 0s 2ms/step - loss: 29243.5508\n",
      "Epoch 114/200\n",
      "16/16 [==============================] - 0s 1ms/step - loss: 28488.3457\n",
      "Epoch 115/200\n",
      "16/16 [==============================] - 0s 2ms/step - loss: 27741.5352\n",
      "Epoch 116/200\n",
      "16/16 [==============================] - 0s 1ms/step - loss: 27013.7207\n",
      "Epoch 117/200\n",
      "16/16 [==============================] - 0s 1ms/step - loss: 26301.2578\n",
      "Epoch 118/200\n",
      "16/16 [==============================] - 0s 1ms/step - loss: 25598.0137\n",
      "Epoch 119/200\n",
      "16/16 [==============================] - 0s 1ms/step - loss: 24921.3906\n",
      "Epoch 120/200\n",
      "16/16 [==============================] - 0s 1ms/step - loss: 24252.7129\n",
      "Epoch 121/200\n",
      "16/16 [==============================] - 0s 1ms/step - loss: 23593.5859\n",
      "Epoch 122/200\n",
      "16/16 [==============================] - 0s 1ms/step - loss: 22953.7461\n",
      "Epoch 123/200\n",
      "16/16 [==============================] - 0s 1ms/step - loss: 22326.0273\n",
      "Epoch 124/200\n",
      "16/16 [==============================] - 0s 1ms/step - loss: 21715.7324\n",
      "Epoch 125/200\n",
      "16/16 [==============================] - 0s 1ms/step - loss: 21115.7051\n",
      "Epoch 126/200\n",
      "16/16 [==============================] - 0s 1ms/step - loss: 20521.5234\n",
      "Epoch 127/200\n",
      "16/16 [==============================] - 0s 1ms/step - loss: 19954.3691\n",
      "Epoch 128/200\n",
      "16/16 [==============================] - 0s 1ms/step - loss: 19389.2617\n",
      "Epoch 129/200\n",
      "16/16 [==============================] - 0s 1ms/step - loss: 18837.7246\n",
      "Epoch 130/200\n",
      "16/16 [==============================] - 0s 1ms/step - loss: 18309.3535\n",
      "Epoch 131/200\n",
      "16/16 [==============================] - 0s 1ms/step - loss: 17781.3594\n",
      "Epoch 132/200\n",
      "16/16 [==============================] - 0s 1ms/step - loss: 17272.4746\n",
      "Epoch 133/200\n",
      "16/16 [==============================] - 0s 2ms/step - loss: 16771.7520\n",
      "Epoch 134/200\n",
      "16/16 [==============================] - 0s 2ms/step - loss: 16285.5898\n",
      "Epoch 135/200\n",
      "16/16 [==============================] - 0s 2ms/step - loss: 15807.3203\n",
      "Epoch 136/200\n",
      "16/16 [==============================] - 0s 2ms/step - loss: 15340.3525\n",
      "Epoch 137/200\n",
      "16/16 [==============================] - 0s 1ms/step - loss: 14889.4619\n",
      "Epoch 138/200\n",
      "16/16 [==============================] - 0s 2ms/step - loss: 14444.3721\n",
      "Epoch 139/200\n",
      "16/16 [==============================] - 0s 2ms/step - loss: 14013.1504\n",
      "Epoch 140/200\n",
      "16/16 [==============================] - 0s 1ms/step - loss: 13589.7061\n",
      "Epoch 141/200\n",
      "16/16 [==============================] - 0s 2ms/step - loss: 13183.1523\n",
      "Epoch 142/200\n",
      "16/16 [==============================] - 0s 1ms/step - loss: 12775.2178\n",
      "Epoch 143/200\n",
      "16/16 [==============================] - 0s 2ms/step - loss: 12388.0254\n",
      "Epoch 144/200\n",
      "16/16 [==============================] - 0s 2ms/step - loss: 12006.1855\n",
      "Epoch 145/200\n",
      "16/16 [==============================] - 0s 1ms/step - loss: 11639.3291\n",
      "Epoch 146/200\n",
      "16/16 [==============================] - 0s 1ms/step - loss: 11275.9814\n",
      "Epoch 147/200\n",
      "16/16 [==============================] - 0s 1ms/step - loss: 10925.7393\n",
      "Epoch 148/200\n",
      "16/16 [==============================] - 0s 1ms/step - loss: 10582.3965\n",
      "Epoch 149/200\n",
      "16/16 [==============================] - 0s 1ms/step - loss: 10246.0508\n",
      "Epoch 150/200\n",
      "16/16 [==============================] - 0s 1ms/step - loss: 9928.3184\n",
      "Epoch 151/200\n",
      "16/16 [==============================] - 0s 1ms/step - loss: 9607.6289\n",
      "Epoch 152/200\n",
      "16/16 [==============================] - 0s 1ms/step - loss: 9298.0947\n",
      "Epoch 153/200\n",
      "16/16 [==============================] - 0s 1ms/step - loss: 9000.6094\n",
      "Epoch 154/200\n",
      "16/16 [==============================] - 0s 1ms/step - loss: 8709.8652\n",
      "Epoch 155/200\n",
      "16/16 [==============================] - 0s 1ms/step - loss: 8430.6426\n",
      "Epoch 156/200\n",
      "16/16 [==============================] - 0s 1ms/step - loss: 8152.7363\n",
      "Epoch 157/200\n",
      "16/16 [==============================] - 0s 1ms/step - loss: 7889.2212\n",
      "Epoch 158/200\n",
      "16/16 [==============================] - 0s 1ms/step - loss: 7630.0215\n",
      "Epoch 159/200\n",
      "16/16 [==============================] - 0s 1ms/step - loss: 7375.6411\n",
      "Epoch 160/200\n",
      "16/16 [==============================] - 0s 1ms/step - loss: 7132.8428\n",
      "Epoch 161/200\n",
      "16/16 [==============================] - 0s 1ms/step - loss: 6897.7051\n",
      "Epoch 162/200\n",
      "16/16 [==============================] - 0s 1ms/step - loss: 6664.8950\n",
      "Epoch 163/200\n",
      "16/16 [==============================] - 0s 1ms/step - loss: 6440.8130\n",
      "Epoch 164/200\n",
      "16/16 [==============================] - 0s 2ms/step - loss: 6223.7266\n",
      "Epoch 165/200\n",
      "16/16 [==============================] - 0s 2ms/step - loss: 6016.7700\n",
      "Epoch 166/200\n",
      "16/16 [==============================] - 0s 2ms/step - loss: 5811.5342\n",
      "Epoch 167/200\n",
      "16/16 [==============================] - 0s 2ms/step - loss: 5613.2432\n",
      "Epoch 168/200\n",
      "16/16 [==============================] - 0s 2ms/step - loss: 5421.0122\n",
      "Epoch 169/200\n",
      "16/16 [==============================] - 0s 2ms/step - loss: 5237.4238\n",
      "Epoch 170/200\n",
      "16/16 [==============================] - 0s 1ms/step - loss: 5059.7896\n",
      "Epoch 171/200\n",
      "16/16 [==============================] - 0s 2ms/step - loss: 4884.6167\n",
      "Epoch 172/200\n",
      "16/16 [==============================] - 0s 2ms/step - loss: 4717.5254\n",
      "Epoch 173/200\n",
      "16/16 [==============================] - 0s 1ms/step - loss: 4553.8550\n",
      "Epoch 174/200\n",
      "16/16 [==============================] - 0s 2ms/step - loss: 4397.5981\n",
      "Epoch 175/200\n",
      "16/16 [==============================] - 0s 2ms/step - loss: 4245.5918\n",
      "Epoch 176/200\n",
      "16/16 [==============================] - 0s 2ms/step - loss: 4098.4131\n",
      "Epoch 177/200\n",
      "16/16 [==============================] - 0s 2ms/step - loss: 3957.5012\n",
      "Epoch 178/200\n",
      "16/16 [==============================] - 0s 1ms/step - loss: 3819.4094\n",
      "Epoch 179/200\n",
      "16/16 [==============================] - 0s 1ms/step - loss: 3689.4609\n",
      "Epoch 180/200\n",
      "16/16 [==============================] - 0s 1ms/step - loss: 3562.1055\n",
      "Epoch 181/200\n",
      "16/16 [==============================] - 0s 1ms/step - loss: 3438.3181\n",
      "Epoch 182/200\n",
      "16/16 [==============================] - 0s 1ms/step - loss: 3319.7866\n",
      "Epoch 183/200\n",
      "16/16 [==============================] - 0s 1ms/step - loss: 3206.2847\n",
      "Epoch 184/200\n",
      "16/16 [==============================] - 0s 1ms/step - loss: 3096.0542\n",
      "Epoch 185/200\n",
      "16/16 [==============================] - 0s 1ms/step - loss: 2990.1567\n",
      "Epoch 186/200\n",
      "16/16 [==============================] - 0s 1ms/step - loss: 2888.0090\n",
      "Epoch 187/200\n",
      "16/16 [==============================] - 0s 1ms/step - loss: 2789.7961\n",
      "Epoch 188/200\n",
      "16/16 [==============================] - 0s 1ms/step - loss: 2694.2554\n",
      "Epoch 189/200\n",
      "16/16 [==============================] - 0s 1ms/step - loss: 2603.2026\n",
      "Epoch 190/200\n",
      "16/16 [==============================] - 0s 1ms/step - loss: 2517.0146\n",
      "Epoch 191/200\n",
      "16/16 [==============================] - 0s 1ms/step - loss: 2430.7881\n"
     ]
    },
    {
     "name": "stdout",
     "output_type": "stream",
     "text": [
      "Epoch 192/200\n",
      "16/16 [==============================] - 0s 1ms/step - loss: 2350.7783\n",
      "Epoch 193/200\n",
      "16/16 [==============================] - 0s 1ms/step - loss: 2271.6865\n",
      "Epoch 194/200\n",
      "16/16 [==============================] - 0s 1ms/step - loss: 2196.3274\n",
      "Epoch 195/200\n",
      "16/16 [==============================] - 0s 1ms/step - loss: 2125.0496\n",
      "Epoch 196/200\n",
      "16/16 [==============================] - 0s 1ms/step - loss: 2055.7883\n",
      "Epoch 197/200\n",
      "16/16 [==============================] - 0s 1ms/step - loss: 1990.1248\n",
      "Epoch 198/200\n",
      "16/16 [==============================] - 0s 1ms/step - loss: 1925.7906\n",
      "Epoch 199/200\n",
      "16/16 [==============================] - 0s 1ms/step - loss: 1865.0237\n",
      "Epoch 200/200\n",
      "16/16 [==============================] - 0s 2ms/step - loss: 1806.2191\n"
     ]
    }
   ],
   "source": [
    "epochs_hist = model.fit(X_train, y_train, epochs=200)"
   ]
  },
  {
   "cell_type": "code",
   "execution_count": 11,
   "metadata": {},
   "outputs": [
    {
     "data": {
      "image/png": "[encoded data removed]",
      "text/plain": [
       "<Figure size 432x288 with 1 Axes>"
      ]
     },
     "metadata": {
      "needs_background": "light"
     },
     "output_type": "display_data"
    }
   ],
   "source": [
    "import pandas as pd\n",
    "\n",
    "history_df = pd.DataFrame(epochs_hist.history)\n",
    "\n",
    "history_df['loss'].plot();"
   ]
  },
  {
   "cell_type": "code",
   "execution_count": 12,
   "metadata": {},
   "outputs": [
    {
     "name": "stdout",
     "output_type": "stream",
     "text": [
      "A previsão de receita para uma temperatura de 5 é 125.19 dolares.\n"
     ]
    }
   ],
   "source": [
    "# Previsões com o modelo treinado\n",
    "temp = 5\n",
    "revenue = model.predict([temp])\n",
    "print('A previsão de receita para uma temperatura de {0} é {1:.2f} dolares.'.format(temp,revenue[0,0]))\n"
   ]
  },
  {
   "cell_type": "code",
   "execution_count": 13,
   "metadata": {},
   "outputs": [
    {
     "data": {
      "image/png": "[encoded data removed]",
      "text/plain": [
       "<Figure size 432x288 with 1 Axes>"
      ]
     },
     "metadata": {
      "needs_background": "light"
     },
     "output_type": "display_data"
    }
   ],
   "source": [
    "from matplotlib import pyplot as plt\n",
    "plt.scatter(X_train, y_train, color = 'gray')\n",
    "plt.plot(X_train, model.predict(X_train), color = 'red')\n",
    "plt.ylabel('Revenue [dollars]')\n",
    "plt.xlabel('Temperature [degC]')\n",
    "plt.title('Revenue Generated vs. Temperature @Ice Cream Stand');"
   ]
  },
  {
   "cell_type": "markdown",
   "metadata": {},
   "source": [
    "## Implementação end-to-end MLP\n",
    "\n",
    "Realize o treinamento de uma rede MLP para o dataset Fashion MNIST. Um guia passo a passo pode ser encontrado no link https://www.tensorflow.org/tutorials/keras/classification. "
   ]
  },
  {
   "cell_type": "code",
   "execution_count": 33,
   "metadata": {},
   "outputs": [],
   "source": [
    "import tensorflow as tf\n",
    "from tensorflow import keras\n",
    "import numpy as np\n",
    "import matplotlib.pyplot as plt\n"
   ]
  },
  {
   "cell_type": "code",
   "execution_count": 34,
   "metadata": {},
   "outputs": [],
   "source": [
    "# Importa o dataset Fashion Mnist\n",
    "fashion_mnist = keras.datasets.fashion_mnist\n",
    "(train_images, train_labels), (test_images, test_labels) = fashion_mnist.load_data()\n",
    "\n",
    "#normaliza os dados para o pixel ficar com valores entre 0 e \n",
    "train_images = train_images / 255.0\n",
    "test_images = test_images / 255.0"
   ]
  },
  {
   "cell_type": "markdown",
   "metadata": {},
   "source": [
    "<table>\n",
    "  <tr>\n",
    "    <th>Label</th>\n",
    "    <th>Classe</th>\n",
    "  </tr>\n",
    "  <tr>\n",
    "    <td>0</td>\n",
    "    <td>Camisetas/Top (T-shirt/top)</td>\n",
    "  </tr>\n",
    "  <tr>\n",
    "    <td>1</td>\n",
    "    <td>Calça (Trouser)</td>\n",
    "  </tr>\n",
    "    <tr>\n",
    "    <td>2</td>\n",
    "    <td>Suéter (Pullover)</td>\n",
    "  </tr>\n",
    "    <tr>\n",
    "    <td>3</td>\n",
    "    <td>Vestidos (Dress)</td>\n",
    "  </tr>\n",
    "    <tr>\n",
    "    <td>4</td>\n",
    "    <td>Casaco (Coat)</td>\n",
    "  </tr>\n",
    "    <tr>\n",
    "    <td>5</td>\n",
    "    <td>Sandálias (Sandal)</td>\n",
    "  </tr>\n",
    "    <tr>\n",
    "    <td>6</td>\n",
    "    <td>Camisas (Shirt)</td>\n",
    "  </tr>\n",
    "    <tr>\n",
    "    <td>7</td>\n",
    "    <td>Tênis (Sneaker)</td>\n",
    "  </tr>\n",
    "    <tr>\n",
    "    <td>8</td>\n",
    "    <td>Bolsa (Bag)</td>\n",
    "  </tr>\n",
    "    <tr>\n",
    "    <td>9</td>\n",
    "    <td>Botas (Ankle boot)</td>\n",
    "  </tr>\n",
    "</table>"
   ]
  },
  {
   "cell_type": "code",
   "execution_count": 35,
   "metadata": {},
   "outputs": [],
   "source": [
    "class_names = ['T-shirt/top', 'Trouser', 'Pullover', 'Dress', 'Coat',\n",
    "               'Sandal', 'Shirt', 'Sneaker', 'Bag', 'Ankle boot']"
   ]
  },
  {
   "cell_type": "code",
   "execution_count": 17,
   "metadata": {},
   "outputs": [
    {
     "data": {
      "image/png": "[encoded data removed]",
      "text/plain": [
       "<Figure size 720x720 with 25 Axes>"
      ]
     },
     "metadata": {},
     "output_type": "display_data"
    }
   ],
   "source": [
    "plt.figure(figsize=(10,10))\n",
    "for i in range(25):\n",
    "    plt.subplot(5,5,i+1)\n",
    "    plt.xticks([])\n",
    "    plt.yticks([])\n",
    "    plt.grid(False)\n",
    "    plt.imshow(train_images[i], cmap=plt.cm.binary)\n",
    "    plt.xlabel(class_names[train_labels[i]])\n",
    "plt.show()"
   ]
  },
  {
   "cell_type": "code",
   "execution_count": 18,
   "metadata": {},
   "outputs": [
    {
     "name": "stdout",
     "output_type": "stream",
     "text": [
      "Total de 60000 imagens para treino, com tamanho 28x28 pixel\n",
      "\n",
      "Total de 10000 imagens para teste, com tamanho 28x28 pixel\n"
     ]
    }
   ],
   "source": [
    "print (\"Total de {} imagens para treino, com tamanho {}x{} pixel\".format(train_images.shape[0],train_images.shape[1],train_images.shape[2]))\n",
    "print (\"\\nTotal de {} imagens para teste, com tamanho {}x{} pixel\".format(test_images.shape[0],test_images.shape[1],test_images.shape[2]))"
   ]
  },
  {
   "cell_type": "code",
   "execution_count": 36,
   "metadata": {},
   "outputs": [
    {
     "name": "stdout",
     "output_type": "stream",
     "text": [
      "Model: \"sequential_5\"\n",
      "_________________________________________________________________\n",
      "Layer (type)                 Output Shape              Param #   \n",
      "=================================================================\n",
      "flatten_1 (Flatten)          (None, 784)               0         \n",
      "_________________________________________________________________\n",
      "dense_8 (Dense)              (None, 128)               100480    \n",
      "_________________________________________________________________\n",
      "dense_9 (Dense)              (None, 10)                1290      \n",
      "=================================================================\n",
      "Total params: 101,770\n",
      "Trainable params: 101,770\n",
      "Non-trainable params: 0\n",
      "_________________________________________________________________\n"
     ]
    }
   ],
   "source": [
    "model = keras.Sequential([\n",
    "    keras.layers.Flatten(input_shape=(28, 28)),\n",
    "    keras.layers.Dense(128, activation='relu'),\n",
    "    keras.layers.Dense(10, activation='softmax')\n",
    "])\n",
    "\n",
    "\n",
    "model.summary()"
   ]
  },
  {
   "cell_type": "code",
   "execution_count": 37,
   "metadata": {},
   "outputs": [],
   "source": [
    "model.compile(optimizer='adam',\n",
    "              loss='sparse_categorical_crossentropy',\n",
    "              metrics=['accuracy'])"
   ]
  },
  {
   "cell_type": "code",
   "execution_count": 38,
   "metadata": {},
   "outputs": [
    {
     "name": "stdout",
     "output_type": "stream",
     "text": [
      "Epoch 1/10\n",
      "1875/1875 [==============================] - 4s 2ms/step - loss: 0.5006 - accuracy: 0.8237\n",
      "Epoch 2/10\n",
      "1875/1875 [==============================] - 4s 2ms/step - loss: 0.3755 - accuracy: 0.8649\n",
      "Epoch 3/10\n",
      "1875/1875 [==============================] - 4s 2ms/step - loss: 0.3381 - accuracy: 0.8760\n",
      "Epoch 4/10\n",
      "1875/1875 [==============================] - 4s 2ms/step - loss: 0.3130 - accuracy: 0.8848\n",
      "Epoch 5/10\n",
      "1875/1875 [==============================] - 4s 2ms/step - loss: 0.2942 - accuracy: 0.8914\n",
      "Epoch 6/10\n",
      "1875/1875 [==============================] - 4s 2ms/step - loss: 0.2804 - accuracy: 0.8955\n",
      "Epoch 7/10\n",
      "1875/1875 [==============================] - 4s 2ms/step - loss: 0.2686 - accuracy: 0.8994\n",
      "Epoch 8/10\n",
      "1875/1875 [==============================] - 3s 2ms/step - loss: 0.2585 - accuracy: 0.9032\n",
      "Epoch 9/10\n",
      "1875/1875 [==============================] - 4s 2ms/step - loss: 0.2464 - accuracy: 0.9080\n",
      "Epoch 10/10\n",
      "1875/1875 [==============================] - 3s 2ms/step - loss: 0.2380 - accuracy: 0.9107\n"
     ]
    }
   ],
   "source": [
    "epochs_hist = model.fit(train_images, train_labels, epochs=10)"
   ]
  },
  {
   "cell_type": "code",
   "execution_count": 22,
   "metadata": {},
   "outputs": [
    {
     "data": {
      "image/png": "[encoded data removed]",
      "text/plain": [
       "<Figure size 432x288 with 1 Axes>"
      ]
     },
     "metadata": {
      "needs_background": "light"
     },
     "output_type": "display_data"
    }
   ],
   "source": [
    "import pandas as pd\n",
    "\n",
    "history_df = pd.DataFrame(epochs_hist.history)\n",
    "\n",
    "history_df['loss'].plot();\n",
    "history_df['accuracy'].plot();"
   ]
  },
  {
   "cell_type": "code",
   "execution_count": 23,
   "metadata": {},
   "outputs": [
    {
     "name": "stdout",
     "output_type": "stream",
     "text": [
      "1875/1875 - 2s - loss: 0.2143 - accuracy: 0.9209\n",
      "313/313 - 1s - loss: 0.3291 - accuracy: 0.8825\n"
     ]
    }
   ],
   "source": [
    "#Validadção\n",
    "train_loss, train_acc = model.evaluate(train_images,  train_labels, verbose=2)\n",
    "test_loss, test_acc = model.evaluate(test_images,  test_labels, verbose=2)\n"
   ]
  },
  {
   "cell_type": "code",
   "execution_count": 24,
   "metadata": {},
   "outputs": [],
   "source": [
    "# Previsões com o modelo treinado\n",
    "\n",
    "predictions = model.predict(test_images)"
   ]
  },
  {
   "cell_type": "code",
   "execution_count": 28,
   "metadata": {},
   "outputs": [
    {
     "name": "stdout",
     "output_type": "stream",
     "text": [
      "\n",
      "Classe predita foi 9 com 100%. Classe correta é 9, Ankle boot.\n"
     ]
    }
   ],
   "source": [
    "#Vericação dos itens preditos\n",
    "\n",
    "item = 158\n",
    "\n",
    "print(\"\\nClasse predita foi {} com {:2.0f}%. Classe correta é {}, {}.\".format(np.argmax(predictions[item]), \n",
    "                                                                 100*np.max(predictions[item]),\n",
    "                                                                 test_labels[item], \n",
    "                                                                 class_names[test_labels[item]]))\n",
    "\n",
    "a=100*np.max(predictions[item])"
   ]
  },
  {
   "cell_type": "code",
   "execution_count": 29,
   "metadata": {},
   "outputs": [],
   "source": [
    "def plot_image(i, predictions_array, true_label, img):\n",
    "  predictions_array, true_label, img = predictions_array[i], true_label[i], img[i]\n",
    "  plt.grid(False)\n",
    "  plt.xticks([])\n",
    "  plt.yticks([])\n",
    "\n",
    "  plt.imshow(img, cmap=plt.cm.binary)\n",
    "\n",
    "  predicted_label = np.argmax(predictions_array)\n",
    "  if predicted_label == true_label:\n",
    "    color = 'blue'\n",
    "  else:\n",
    "    color = 'red'\n",
    "\n",
    "  plt.xlabel(\"{} {:2.0f}% ({})\".format(class_names[predicted_label],\n",
    "                                100*np.max(predictions_array),\n",
    "                                class_names[true_label]),\n",
    "                                color=color)"
   ]
  },
  {
   "cell_type": "code",
   "execution_count": 30,
   "metadata": {},
   "outputs": [
    {
     "data": {
      "image/png": "[encoded data removed]",
      "text/plain": [
       "<Figure size 432x216 with 1 Axes>"
      ]
     },
     "metadata": {},
     "output_type": "display_data"
    }
   ],
   "source": [
    "\n",
    "plt.figure(figsize=(6,3))\n",
    "plt.subplot(1,2,1)\n",
    "plot_image(item, predictions, test_labels, test_images)\n",
    "plt.show()"
   ]
  },
  {
   "cell_type": "code",
   "execution_count": null,
   "metadata": {},
   "outputs": [],
   "source": []
  }
 ],
 "metadata": {
  "kernelspec": {
   "display_name": "Python 3",
   "language": "python",
   "name": "python3"
  },
  "language_info": {
   "codemirror_mode": {
    "name": "ipython",
    "version": 3
   },
   "file_extension": ".py",
   "mimetype": "text/x-python",
   "name": "python",
   "nbconvert_exporter": "python",
   "pygments_lexer": "ipython3",
   "version": "3.8.10"
  }
 },
 "nbformat": 4,
 "nbformat_minor": 5
}
